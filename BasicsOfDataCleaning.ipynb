{
  "nbformat": 4,
  "nbformat_minor": 0,
  "metadata": {
    "colab": {
      "provenance": []
    },
    "kernelspec": {
      "name": "python3",
      "display_name": "Python 3"
    },
    "language_info": {
      "name": "python"
    }
  },
  "cells": [
    {
      "cell_type": "markdown",
      "source": [
        "# Data Cleaning with Pandas\n",
        "\n",
        "Data cleaning is a crucial step in the data analysis process, ensuring that your dataset is accurate, complete, and ready for analysis. In this tutorial, we will explore various techniques for cleaning data using the Pandas library in Python."
      ],
      "metadata": {
        "id": "4jzFfy3zN29y"
      }
    },
    {
      "cell_type": "markdown",
      "source": [
        "## Introduction to Data Cleaning\n",
        "\n",
        "Data cleaning involves identifying and rectifying errors, inconsistencies, and missing values within a dataset. It is essential for ensuring that data analyses yield accurate and reliable results. Common issues in datasets include:\n",
        "\n",
        "- Missing values\n",
        "- Duplicates\n",
        "- Incorrect data types\n",
        "- Inconsistent formatting"
      ],
      "metadata": {
        "id": "2Lzn8IbpOwem"
      }
    },
    {
      "cell_type": "markdown",
      "source": [
        "## Creating a Synthetic Dataset\n",
        "\n",
        "Let's create a synthetic dataset with 100 entries to use throughout this tutorial. We will generate a DataFrame with various types of data, including numerical, categorical, and some missing values.\n",
        "\n",
        "You can just pull up a random dataset as well."
      ],
      "metadata": {
        "id": "60MNMO-WOzLf"
      }
    },
    {
      "cell_type": "code",
      "execution_count": null,
      "metadata": {
        "id": "xU57sV1dNwWc"
      },
      "outputs": [],
      "source": [
        "import pandas as pd\n",
        "import numpy as np"
      ]
    },
    {
      "cell_type": "code",
      "source": [
        "# Set a random seed for reproducibility\n",
        "np.random.seed(42)"
      ],
      "metadata": {
        "id": "WMfGQiuUO5v3"
      },
      "execution_count": null,
      "outputs": []
    },
    {
      "cell_type": "code",
      "source": [
        "# Creating a synthetic dataset\n",
        "num_entries = 100\n",
        "data = {\n",
        "    'CustomerID': range(1, num_entries + 1),\n",
        "    'Name': [f'Customer_{i}' for i in range(1, num_entries + 1)],\n",
        "    'Age': np.random.randint(18, 70, size=num_entries).tolist(),\n",
        "    'Gender': np.random.choice(['Male', 'Female'], size=num_entries).tolist(),\n",
        "    'Income': np.random.randint(30000, 120000, size=num_entries).tolist(),\n",
        "    'Purchase': np.random.choice([0, 1], size=num_entries).tolist()\n",
        "}"
      ],
      "metadata": {
        "id": "S42YhB7iO7Xj"
      },
      "execution_count": null,
      "outputs": []
    },
    {
      "cell_type": "code",
      "source": [
        "# Introduce some random missing values\n",
        "for _ in range(10):  # Introduce 10 missing values randomly\n",
        "    idx = np.random.randint(0, num_entries)\n",
        "    data['Age'][idx] = np.nan"
      ],
      "metadata": {
        "id": "bmmd6IfPPJey"
      },
      "execution_count": null,
      "outputs": []
    },
    {
      "cell_type": "code",
      "source": [
        "# Create DataFrame\n",
        "df = pd.DataFrame(data)"
      ],
      "metadata": {
        "id": "Ct1SmVubPMBC"
      },
      "execution_count": null,
      "outputs": []
    },
    {
      "cell_type": "code",
      "source": [
        "# Introduce some duplicates\n",
        "df = pd.concat([df, df.sample(5)])  # Add 5 duplicate rows\n",
        "df"
      ],
      "metadata": {
        "colab": {
          "base_uri": "https://localhost:8080/",
          "height": 424
        },
        "id": "uFNo9RzZPNma",
        "outputId": "e6c70d0c-ff01-434e-97b0-e82105a46d15"
      },
      "execution_count": null,
      "outputs": [
        {
          "output_type": "execute_result",
          "data": {
            "text/plain": [
              "    CustomerID         Name   Age  Gender  Income  Purchase\n",
              "0            1   Customer_1  56.0    Male   55939         0\n",
              "1            2   Customer_2  69.0    Male   78925         0\n",
              "2            3   Customer_3  46.0    Male   72941         0\n",
              "3            4   Customer_4  32.0    Male   51834         0\n",
              "4            5   Customer_5  60.0    Male   48047         0\n",
              "..         ...          ...   ...     ...     ...       ...\n",
              "34          35  Customer_35  33.0  Female   95318         1\n",
              "30          31  Customer_31  66.0    Male   69353         0\n",
              "37          38  Customer_38  68.0    Male   97172         0\n",
              "2            3   Customer_3  46.0    Male   72941         0\n",
              "83          84  Customer_84  32.0  Female   31802         1\n",
              "\n",
              "[105 rows x 6 columns]"
            ],
            "text/html": [
              "\n",
              "  <div id=\"df-39bc4d64-b806-4795-aad2-201b92a0d447\" class=\"colab-df-container\">\n",
              "    <div>\n",
              "<style scoped>\n",
              "    .dataframe tbody tr th:only-of-type {\n",
              "        vertical-align: middle;\n",
              "    }\n",
              "\n",
              "    .dataframe tbody tr th {\n",
              "        vertical-align: top;\n",
              "    }\n",
              "\n",
              "    .dataframe thead th {\n",
              "        text-align: right;\n",
              "    }\n",
              "</style>\n",
              "<table border=\"1\" class=\"dataframe\">\n",
              "  <thead>\n",
              "    <tr style=\"text-align: right;\">\n",
              "      <th></th>\n",
              "      <th>CustomerID</th>\n",
              "      <th>Name</th>\n",
              "      <th>Age</th>\n",
              "      <th>Gender</th>\n",
              "      <th>Income</th>\n",
              "      <th>Purchase</th>\n",
              "    </tr>\n",
              "  </thead>\n",
              "  <tbody>\n",
              "    <tr>\n",
              "      <th>0</th>\n",
              "      <td>1</td>\n",
              "      <td>Customer_1</td>\n",
              "      <td>56.0</td>\n",
              "      <td>Male</td>\n",
              "      <td>55939</td>\n",
              "      <td>0</td>\n",
              "    </tr>\n",
              "    <tr>\n",
              "      <th>1</th>\n",
              "      <td>2</td>\n",
              "      <td>Customer_2</td>\n",
              "      <td>69.0</td>\n",
              "      <td>Male</td>\n",
              "      <td>78925</td>\n",
              "      <td>0</td>\n",
              "    </tr>\n",
              "    <tr>\n",
              "      <th>2</th>\n",
              "      <td>3</td>\n",
              "      <td>Customer_3</td>\n",
              "      <td>46.0</td>\n",
              "      <td>Male</td>\n",
              "      <td>72941</td>\n",
              "      <td>0</td>\n",
              "    </tr>\n",
              "    <tr>\n",
              "      <th>3</th>\n",
              "      <td>4</td>\n",
              "      <td>Customer_4</td>\n",
              "      <td>32.0</td>\n",
              "      <td>Male</td>\n",
              "      <td>51834</td>\n",
              "      <td>0</td>\n",
              "    </tr>\n",
              "    <tr>\n",
              "      <th>4</th>\n",
              "      <td>5</td>\n",
              "      <td>Customer_5</td>\n",
              "      <td>60.0</td>\n",
              "      <td>Male</td>\n",
              "      <td>48047</td>\n",
              "      <td>0</td>\n",
              "    </tr>\n",
              "    <tr>\n",
              "      <th>...</th>\n",
              "      <td>...</td>\n",
              "      <td>...</td>\n",
              "      <td>...</td>\n",
              "      <td>...</td>\n",
              "      <td>...</td>\n",
              "      <td>...</td>\n",
              "    </tr>\n",
              "    <tr>\n",
              "      <th>34</th>\n",
              "      <td>35</td>\n",
              "      <td>Customer_35</td>\n",
              "      <td>33.0</td>\n",
              "      <td>Female</td>\n",
              "      <td>95318</td>\n",
              "      <td>1</td>\n",
              "    </tr>\n",
              "    <tr>\n",
              "      <th>30</th>\n",
              "      <td>31</td>\n",
              "      <td>Customer_31</td>\n",
              "      <td>66.0</td>\n",
              "      <td>Male</td>\n",
              "      <td>69353</td>\n",
              "      <td>0</td>\n",
              "    </tr>\n",
              "    <tr>\n",
              "      <th>37</th>\n",
              "      <td>38</td>\n",
              "      <td>Customer_38</td>\n",
              "      <td>68.0</td>\n",
              "      <td>Male</td>\n",
              "      <td>97172</td>\n",
              "      <td>0</td>\n",
              "    </tr>\n",
              "    <tr>\n",
              "      <th>2</th>\n",
              "      <td>3</td>\n",
              "      <td>Customer_3</td>\n",
              "      <td>46.0</td>\n",
              "      <td>Male</td>\n",
              "      <td>72941</td>\n",
              "      <td>0</td>\n",
              "    </tr>\n",
              "    <tr>\n",
              "      <th>83</th>\n",
              "      <td>84</td>\n",
              "      <td>Customer_84</td>\n",
              "      <td>32.0</td>\n",
              "      <td>Female</td>\n",
              "      <td>31802</td>\n",
              "      <td>1</td>\n",
              "    </tr>\n",
              "  </tbody>\n",
              "</table>\n",
              "<p>105 rows × 6 columns</p>\n",
              "</div>\n",
              "    <div class=\"colab-df-buttons\">\n",
              "\n",
              "  <div class=\"colab-df-container\">\n",
              "    <button class=\"colab-df-convert\" onclick=\"convertToInteractive('df-39bc4d64-b806-4795-aad2-201b92a0d447')\"\n",
              "            title=\"Convert this dataframe to an interactive table.\"\n",
              "            style=\"display:none;\">\n",
              "\n",
              "  <svg xmlns=\"http://www.w3.org/2000/svg\" height=\"24px\" viewBox=\"0 -960 960 960\">\n",
              "    <path d=\"M120-120v-720h720v720H120Zm60-500h600v-160H180v160Zm220 220h160v-160H400v160Zm0 220h160v-160H400v160ZM180-400h160v-160H180v160Zm440 0h160v-160H620v160ZM180-180h160v-160H180v160Zm440 0h160v-160H620v160Z\"/>\n",
              "  </svg>\n",
              "    </button>\n",
              "\n",
              "  <style>\n",
              "    .colab-df-container {\n",
              "      display:flex;\n",
              "      gap: 12px;\n",
              "    }\n",
              "\n",
              "    .colab-df-convert {\n",
              "      background-color: #E8F0FE;\n",
              "      border: none;\n",
              "      border-radius: 50%;\n",
              "      cursor: pointer;\n",
              "      display: none;\n",
              "      fill: #1967D2;\n",
              "      height: 32px;\n",
              "      padding: 0 0 0 0;\n",
              "      width: 32px;\n",
              "    }\n",
              "\n",
              "    .colab-df-convert:hover {\n",
              "      background-color: #E2EBFA;\n",
              "      box-shadow: 0px 1px 2px rgba(60, 64, 67, 0.3), 0px 1px 3px 1px rgba(60, 64, 67, 0.15);\n",
              "      fill: #174EA6;\n",
              "    }\n",
              "\n",
              "    .colab-df-buttons div {\n",
              "      margin-bottom: 4px;\n",
              "    }\n",
              "\n",
              "    [theme=dark] .colab-df-convert {\n",
              "      background-color: #3B4455;\n",
              "      fill: #D2E3FC;\n",
              "    }\n",
              "\n",
              "    [theme=dark] .colab-df-convert:hover {\n",
              "      background-color: #434B5C;\n",
              "      box-shadow: 0px 1px 3px 1px rgba(0, 0, 0, 0.15);\n",
              "      filter: drop-shadow(0px 1px 2px rgba(0, 0, 0, 0.3));\n",
              "      fill: #FFFFFF;\n",
              "    }\n",
              "  </style>\n",
              "\n",
              "    <script>\n",
              "      const buttonEl =\n",
              "        document.querySelector('#df-39bc4d64-b806-4795-aad2-201b92a0d447 button.colab-df-convert');\n",
              "      buttonEl.style.display =\n",
              "        google.colab.kernel.accessAllowed ? 'block' : 'none';\n",
              "\n",
              "      async function convertToInteractive(key) {\n",
              "        const element = document.querySelector('#df-39bc4d64-b806-4795-aad2-201b92a0d447');\n",
              "        const dataTable =\n",
              "          await google.colab.kernel.invokeFunction('convertToInteractive',\n",
              "                                                    [key], {});\n",
              "        if (!dataTable) return;\n",
              "\n",
              "        const docLinkHtml = 'Like what you see? Visit the ' +\n",
              "          '<a target=\"_blank\" href=https://colab.research.google.com/notebooks/data_table.ipynb>data table notebook</a>'\n",
              "          + ' to learn more about interactive tables.';\n",
              "        element.innerHTML = '';\n",
              "        dataTable['output_type'] = 'display_data';\n",
              "        await google.colab.output.renderOutput(dataTable, element);\n",
              "        const docLink = document.createElement('div');\n",
              "        docLink.innerHTML = docLinkHtml;\n",
              "        element.appendChild(docLink);\n",
              "      }\n",
              "    </script>\n",
              "  </div>\n",
              "\n",
              "\n",
              "<div id=\"df-fd2d0352-144a-41d6-94b0-23d9a75f7e5d\">\n",
              "  <button class=\"colab-df-quickchart\" onclick=\"quickchart('df-fd2d0352-144a-41d6-94b0-23d9a75f7e5d')\"\n",
              "            title=\"Suggest charts\"\n",
              "            style=\"display:none;\">\n",
              "\n",
              "<svg xmlns=\"http://www.w3.org/2000/svg\" height=\"24px\"viewBox=\"0 0 24 24\"\n",
              "     width=\"24px\">\n",
              "    <g>\n",
              "        <path d=\"M19 3H5c-1.1 0-2 .9-2 2v14c0 1.1.9 2 2 2h14c1.1 0 2-.9 2-2V5c0-1.1-.9-2-2-2zM9 17H7v-7h2v7zm4 0h-2V7h2v10zm4 0h-2v-4h2v4z\"/>\n",
              "    </g>\n",
              "</svg>\n",
              "  </button>\n",
              "\n",
              "<style>\n",
              "  .colab-df-quickchart {\n",
              "      --bg-color: #E8F0FE;\n",
              "      --fill-color: #1967D2;\n",
              "      --hover-bg-color: #E2EBFA;\n",
              "      --hover-fill-color: #174EA6;\n",
              "      --disabled-fill-color: #AAA;\n",
              "      --disabled-bg-color: #DDD;\n",
              "  }\n",
              "\n",
              "  [theme=dark] .colab-df-quickchart {\n",
              "      --bg-color: #3B4455;\n",
              "      --fill-color: #D2E3FC;\n",
              "      --hover-bg-color: #434B5C;\n",
              "      --hover-fill-color: #FFFFFF;\n",
              "      --disabled-bg-color: #3B4455;\n",
              "      --disabled-fill-color: #666;\n",
              "  }\n",
              "\n",
              "  .colab-df-quickchart {\n",
              "    background-color: var(--bg-color);\n",
              "    border: none;\n",
              "    border-radius: 50%;\n",
              "    cursor: pointer;\n",
              "    display: none;\n",
              "    fill: var(--fill-color);\n",
              "    height: 32px;\n",
              "    padding: 0;\n",
              "    width: 32px;\n",
              "  }\n",
              "\n",
              "  .colab-df-quickchart:hover {\n",
              "    background-color: var(--hover-bg-color);\n",
              "    box-shadow: 0 1px 2px rgba(60, 64, 67, 0.3), 0 1px 3px 1px rgba(60, 64, 67, 0.15);\n",
              "    fill: var(--button-hover-fill-color);\n",
              "  }\n",
              "\n",
              "  .colab-df-quickchart-complete:disabled,\n",
              "  .colab-df-quickchart-complete:disabled:hover {\n",
              "    background-color: var(--disabled-bg-color);\n",
              "    fill: var(--disabled-fill-color);\n",
              "    box-shadow: none;\n",
              "  }\n",
              "\n",
              "  .colab-df-spinner {\n",
              "    border: 2px solid var(--fill-color);\n",
              "    border-color: transparent;\n",
              "    border-bottom-color: var(--fill-color);\n",
              "    animation:\n",
              "      spin 1s steps(1) infinite;\n",
              "  }\n",
              "\n",
              "  @keyframes spin {\n",
              "    0% {\n",
              "      border-color: transparent;\n",
              "      border-bottom-color: var(--fill-color);\n",
              "      border-left-color: var(--fill-color);\n",
              "    }\n",
              "    20% {\n",
              "      border-color: transparent;\n",
              "      border-left-color: var(--fill-color);\n",
              "      border-top-color: var(--fill-color);\n",
              "    }\n",
              "    30% {\n",
              "      border-color: transparent;\n",
              "      border-left-color: var(--fill-color);\n",
              "      border-top-color: var(--fill-color);\n",
              "      border-right-color: var(--fill-color);\n",
              "    }\n",
              "    40% {\n",
              "      border-color: transparent;\n",
              "      border-right-color: var(--fill-color);\n",
              "      border-top-color: var(--fill-color);\n",
              "    }\n",
              "    60% {\n",
              "      border-color: transparent;\n",
              "      border-right-color: var(--fill-color);\n",
              "    }\n",
              "    80% {\n",
              "      border-color: transparent;\n",
              "      border-right-color: var(--fill-color);\n",
              "      border-bottom-color: var(--fill-color);\n",
              "    }\n",
              "    90% {\n",
              "      border-color: transparent;\n",
              "      border-bottom-color: var(--fill-color);\n",
              "    }\n",
              "  }\n",
              "</style>\n",
              "\n",
              "  <script>\n",
              "    async function quickchart(key) {\n",
              "      const quickchartButtonEl =\n",
              "        document.querySelector('#' + key + ' button');\n",
              "      quickchartButtonEl.disabled = true;  // To prevent multiple clicks.\n",
              "      quickchartButtonEl.classList.add('colab-df-spinner');\n",
              "      try {\n",
              "        const charts = await google.colab.kernel.invokeFunction(\n",
              "            'suggestCharts', [key], {});\n",
              "      } catch (error) {\n",
              "        console.error('Error during call to suggestCharts:', error);\n",
              "      }\n",
              "      quickchartButtonEl.classList.remove('colab-df-spinner');\n",
              "      quickchartButtonEl.classList.add('colab-df-quickchart-complete');\n",
              "    }\n",
              "    (() => {\n",
              "      let quickchartButtonEl =\n",
              "        document.querySelector('#df-fd2d0352-144a-41d6-94b0-23d9a75f7e5d button');\n",
              "      quickchartButtonEl.style.display =\n",
              "        google.colab.kernel.accessAllowed ? 'block' : 'none';\n",
              "    })();\n",
              "  </script>\n",
              "</div>\n",
              "\n",
              "  <div id=\"id_7d7e2736-0589-4d24-b409-b3473efad51b\">\n",
              "    <style>\n",
              "      .colab-df-generate {\n",
              "        background-color: #E8F0FE;\n",
              "        border: none;\n",
              "        border-radius: 50%;\n",
              "        cursor: pointer;\n",
              "        display: none;\n",
              "        fill: #1967D2;\n",
              "        height: 32px;\n",
              "        padding: 0 0 0 0;\n",
              "        width: 32px;\n",
              "      }\n",
              "\n",
              "      .colab-df-generate:hover {\n",
              "        background-color: #E2EBFA;\n",
              "        box-shadow: 0px 1px 2px rgba(60, 64, 67, 0.3), 0px 1px 3px 1px rgba(60, 64, 67, 0.15);\n",
              "        fill: #174EA6;\n",
              "      }\n",
              "\n",
              "      [theme=dark] .colab-df-generate {\n",
              "        background-color: #3B4455;\n",
              "        fill: #D2E3FC;\n",
              "      }\n",
              "\n",
              "      [theme=dark] .colab-df-generate:hover {\n",
              "        background-color: #434B5C;\n",
              "        box-shadow: 0px 1px 3px 1px rgba(0, 0, 0, 0.15);\n",
              "        filter: drop-shadow(0px 1px 2px rgba(0, 0, 0, 0.3));\n",
              "        fill: #FFFFFF;\n",
              "      }\n",
              "    </style>\n",
              "    <button class=\"colab-df-generate\" onclick=\"generateWithVariable('df')\"\n",
              "            title=\"Generate code using this dataframe.\"\n",
              "            style=\"display:none;\">\n",
              "\n",
              "  <svg xmlns=\"http://www.w3.org/2000/svg\" height=\"24px\"viewBox=\"0 0 24 24\"\n",
              "       width=\"24px\">\n",
              "    <path d=\"M7,19H8.4L18.45,9,17,7.55,7,17.6ZM5,21V16.75L18.45,3.32a2,2,0,0,1,2.83,0l1.4,1.43a1.91,1.91,0,0,1,.58,1.4,1.91,1.91,0,0,1-.58,1.4L9.25,21ZM18.45,9,17,7.55Zm-12,3A5.31,5.31,0,0,0,4.9,8.1,5.31,5.31,0,0,0,1,6.5,5.31,5.31,0,0,0,4.9,4.9,5.31,5.31,0,0,0,6.5,1,5.31,5.31,0,0,0,8.1,4.9,5.31,5.31,0,0,0,12,6.5,5.46,5.46,0,0,0,6.5,12Z\"/>\n",
              "  </svg>\n",
              "    </button>\n",
              "    <script>\n",
              "      (() => {\n",
              "      const buttonEl =\n",
              "        document.querySelector('#id_7d7e2736-0589-4d24-b409-b3473efad51b button.colab-df-generate');\n",
              "      buttonEl.style.display =\n",
              "        google.colab.kernel.accessAllowed ? 'block' : 'none';\n",
              "\n",
              "      buttonEl.onclick = () => {\n",
              "        google.colab.notebook.generateWithVariable('df');\n",
              "      }\n",
              "      })();\n",
              "    </script>\n",
              "  </div>\n",
              "\n",
              "    </div>\n",
              "  </div>\n"
            ],
            "application/vnd.google.colaboratory.intrinsic+json": {
              "type": "dataframe",
              "variable_name": "df",
              "summary": "{\n  \"name\": \"df\",\n  \"rows\": 105,\n  \"fields\": [\n    {\n      \"column\": \"CustomerID\",\n      \"properties\": {\n        \"dtype\": \"number\",\n        \"std\": 28,\n        \"min\": 1,\n        \"max\": 100,\n        \"num_unique_values\": 100,\n        \"samples\": [\n          84,\n          54,\n          71\n        ],\n        \"semantic_type\": \"\",\n        \"description\": \"\"\n      }\n    },\n    {\n      \"column\": \"Name\",\n      \"properties\": {\n        \"dtype\": \"string\",\n        \"num_unique_values\": 100,\n        \"samples\": [\n          \"Customer_84\",\n          \"Customer_54\",\n          \"Customer_71\"\n        ],\n        \"semantic_type\": \"\",\n        \"description\": \"\"\n      }\n    },\n    {\n      \"column\": \"Age\",\n      \"properties\": {\n        \"dtype\": \"number\",\n        \"std\": 14.74038119314756,\n        \"min\": 19.0,\n        \"max\": 69.0,\n        \"num_unique_values\": 46,\n        \"samples\": [\n          23.0,\n          45.0,\n          33.0\n        ],\n        \"semantic_type\": \"\",\n        \"description\": \"\"\n      }\n    },\n    {\n      \"column\": \"Gender\",\n      \"properties\": {\n        \"dtype\": \"category\",\n        \"num_unique_values\": 2,\n        \"samples\": [\n          \"Female\",\n          \"Male\"\n        ],\n        \"semantic_type\": \"\",\n        \"description\": \"\"\n      }\n    },\n    {\n      \"column\": \"Income\",\n      \"properties\": {\n        \"dtype\": \"number\",\n        \"std\": 26265,\n        \"min\": 30854,\n        \"max\": 119474,\n        \"num_unique_values\": 100,\n        \"samples\": [\n          31802,\n          55342\n        ],\n        \"semantic_type\": \"\",\n        \"description\": \"\"\n      }\n    },\n    {\n      \"column\": \"Purchase\",\n      \"properties\": {\n        \"dtype\": \"number\",\n        \"std\": 0,\n        \"min\": 0,\n        \"max\": 1,\n        \"num_unique_values\": 2,\n        \"samples\": [\n          1,\n          0\n        ],\n        \"semantic_type\": \"\",\n        \"description\": \"\"\n      }\n    }\n  ]\n}"
            }
          },
          "metadata": {},
          "execution_count": 22
        }
      ]
    },
    {
      "cell_type": "markdown",
      "source": [
        "## Loading the Dataset\n",
        "The synthetic dataset is already created in the previous section, so we can directly use the df DataFrame.\n",
        "\n",
        "Else, you'd have to use:\n",
        "```python\n",
        "df = pd.read_csv('/content/2015.csv')\n",
        "```"
      ],
      "metadata": {
        "id": "c4DtHvHdPZgx"
      }
    },
    {
      "cell_type": "markdown",
      "source": [
        "## Exploratory Data Analysis (EDA)\n",
        "Before cleaning the data, it's essential to understand its structure and contents. We can use the following methods to gain insights:"
      ],
      "metadata": {
        "id": "10b0az4tPil3"
      }
    },
    {
      "cell_type": "code",
      "source": [
        "# Get a concise summary of the DataFrame\n",
        "print(\"\\nDataFrame Info:\")\n",
        "print(df.info())\n",
        "\n",
        "# Get descriptive statistics of the DataFrame\n",
        "print(\"\\nDescriptive Statistics:\")\n",
        "print(df.describe())"
      ],
      "metadata": {
        "colab": {
          "base_uri": "https://localhost:8080/"
        },
        "id": "0MqWVU8vPPx6",
        "outputId": "41fcb029-49f2-44e5-b1c2-bf338d15f721"
      },
      "execution_count": null,
      "outputs": [
        {
          "output_type": "stream",
          "name": "stdout",
          "text": [
            "\n",
            "DataFrame Info:\n",
            "<class 'pandas.core.frame.DataFrame'>\n",
            "Index: 105 entries, 0 to 83\n",
            "Data columns (total 6 columns):\n",
            " #   Column      Non-Null Count  Dtype  \n",
            "---  ------      --------------  -----  \n",
            " 0   CustomerID  105 non-null    int64  \n",
            " 1   Name        105 non-null    object \n",
            " 2   Age         96 non-null     float64\n",
            " 3   Gender      105 non-null    object \n",
            " 4   Income      105 non-null    int64  \n",
            " 5   Purchase    105 non-null    int64  \n",
            "dtypes: float64(1), int64(3), object(2)\n",
            "memory usage: 5.7+ KB\n",
            "None\n",
            "\n",
            "Descriptive Statistics:\n",
            "       CustomerID        Age         Income    Purchase\n",
            "count  105.000000  96.000000     105.000000  105.000000\n",
            "mean    49.914286  43.427083   74194.590476    0.552381\n",
            "std     28.996722  14.740381   26265.962085    0.499634\n",
            "min      1.000000  19.000000   30854.000000    0.000000\n",
            "25%     26.000000  32.000000   51976.000000    0.000000\n",
            "50%     49.000000  41.500000   74262.000000    1.000000\n",
            "75%     75.000000  56.250000   96199.000000    1.000000\n",
            "max    100.000000  69.000000  119474.000000    1.000000\n"
          ]
        }
      ]
    },
    {
      "cell_type": "markdown",
      "source": [
        "## Handling Missing Values\n",
        "Missing values can significantly impact your analysis. Pandas provides several methods to handle them:"
      ],
      "metadata": {
        "id": "2RmxeYOiPpTG"
      }
    },
    {
      "cell_type": "markdown",
      "source": [
        "### Dropping missing values"
      ],
      "metadata": {
        "id": "0_Y-eVXEPsGp"
      }
    },
    {
      "cell_type": "code",
      "source": [
        "# Drop rows with any missing values\n",
        "df_cleaned = df.dropna()\n",
        "\n",
        "# Display the cleaned DataFrame\n",
        "print(\"\\nDataFrame after dropping missing values:\")\n",
        "print(df_cleaned)"
      ],
      "metadata": {
        "colab": {
          "base_uri": "https://localhost:8080/"
        },
        "id": "23pws5LYPlhs",
        "outputId": "f5ec6061-3b5e-4987-de09-17bf701a1562"
      },
      "execution_count": null,
      "outputs": [
        {
          "output_type": "stream",
          "name": "stdout",
          "text": [
            "\n",
            "DataFrame after dropping missing values:\n",
            "    CustomerID         Name   Age  Gender  Income  Purchase\n",
            "0            1   Customer_1  56.0    Male   55939         0\n",
            "1            2   Customer_2  69.0    Male   78925         0\n",
            "2            3   Customer_3  46.0    Male   72941         0\n",
            "3            4   Customer_4  32.0    Male   51834         0\n",
            "4            5   Customer_5  60.0    Male   48047         0\n",
            "..         ...          ...   ...     ...     ...       ...\n",
            "34          35  Customer_35  33.0  Female   95318         1\n",
            "30          31  Customer_31  66.0    Male   69353         0\n",
            "37          38  Customer_38  68.0    Male   97172         0\n",
            "2            3   Customer_3  46.0    Male   72941         0\n",
            "83          84  Customer_84  32.0  Female   31802         1\n",
            "\n",
            "[96 rows x 6 columns]\n"
          ]
        }
      ]
    },
    {
      "cell_type": "markdown",
      "source": [
        "### Filling missing values"
      ],
      "metadata": {
        "id": "6gga8MpyP2ra"
      }
    },
    {
      "cell_type": "code",
      "source": [
        "# Fill missing values with the mean of the 'Age' column\n",
        "df['Age'].fillna(df['Age'].mean(), inplace=True)\n",
        "\n",
        "# Display the DataFrame after filling missing values\n",
        "print(\"\\nDataFrame after filling missing values:\")\n",
        "print(df)"
      ],
      "metadata": {
        "colab": {
          "base_uri": "https://localhost:8080/"
        },
        "id": "ENU9_QXnP4O4",
        "outputId": "f3931963-3b5d-4c1e-c3c2-b88cce8f2fd3"
      },
      "execution_count": null,
      "outputs": [
        {
          "output_type": "stream",
          "name": "stdout",
          "text": [
            "\n",
            "DataFrame after filling missing values:\n",
            "    CustomerID         Name   Age  Gender  Income  Purchase\n",
            "0            1   Customer_1  56.0    Male   55939         0\n",
            "1            2   Customer_2  69.0    Male   78925         0\n",
            "2            3   Customer_3  46.0    Male   72941         0\n",
            "3            4   Customer_4  32.0    Male   51834         0\n",
            "4            5   Customer_5  60.0    Male   48047         0\n",
            "..         ...          ...   ...     ...     ...       ...\n",
            "34          35  Customer_35  33.0  Female   95318         1\n",
            "30          31  Customer_31  66.0    Male   69353         0\n",
            "37          38  Customer_38  68.0    Male   97172         0\n",
            "2            3   Customer_3  46.0    Male   72941         0\n",
            "83          84  Customer_84  32.0  Female   31802         1\n",
            "\n",
            "[105 rows x 6 columns]\n"
          ]
        }
      ]
    },
    {
      "cell_type": "markdown",
      "source": [
        "## Removing duplicate records\n",
        "Duplicate records can skew your analysis. You can check for duplicates and remove them as follows:"
      ],
      "metadata": {
        "id": "3nahMUqtP-Nr"
      }
    },
    {
      "cell_type": "code",
      "source": [
        "# Check for duplicate rows\n",
        "duplicates = df.duplicated()\n",
        "print(f\"\\nDuplicate rows: {duplicates.sum()}\")\n",
        "\n",
        "# Remove duplicate rows\n",
        "df.drop_duplicates(inplace=True)\n",
        "\n",
        "# Display the DataFrame after removing duplicates\n",
        "print(\"\\nDataFrame after removing duplicates:\")\n",
        "print(df)"
      ],
      "metadata": {
        "colab": {
          "base_uri": "https://localhost:8080/"
        },
        "id": "QQNsLxDJP_7j",
        "outputId": "39a344e3-fdaf-4e29-b788-5261fba360c8"
      },
      "execution_count": null,
      "outputs": [
        {
          "output_type": "stream",
          "name": "stdout",
          "text": [
            "\n",
            "Duplicate rows: 5\n",
            "\n",
            "DataFrame after removing duplicates:\n",
            "    CustomerID          Name        Age  Gender  Income  Purchase\n",
            "0            1    Customer_1  56.000000    Male   55939         0\n",
            "1            2    Customer_2  69.000000    Male   78925         0\n",
            "2            3    Customer_3  46.000000    Male   72941         0\n",
            "3            4    Customer_4  32.000000    Male   51834         0\n",
            "4            5    Customer_5  60.000000    Male   48047         0\n",
            "..         ...           ...        ...     ...     ...       ...\n",
            "95          96   Customer_96  42.000000  Female  107371         1\n",
            "96          97   Customer_97  43.427083  Female   32049         0\n",
            "97          98   Customer_98  58.000000  Female   61616         1\n",
            "98          99   Customer_99  43.427083  Female   50932         0\n",
            "99         100  Customer_100  32.000000  Female   59855         1\n",
            "\n",
            "[100 rows x 6 columns]\n"
          ]
        }
      ]
    },
    {
      "cell_type": "markdown",
      "source": [
        "## Data Types and Conversion\n",
        "Ensuring that your data types are correct is essential for accurate analysis. You can check and convert data types using:"
      ],
      "metadata": {
        "id": "W9PPaiyFQE2y"
      }
    },
    {
      "cell_type": "code",
      "source": [
        "# Check data types\n",
        "print(\"\\nData Types:\")\n",
        "print(df.dtypes)\n",
        "\n",
        "# Convert 'CustomerID' to string\n",
        "df['CustomerID'] = df['CustomerID'].astype(str)\n",
        "\n",
        "# Display the DataFrame with updated data types\n",
        "print(\"\\nData Types after conversion:\")\n",
        "print(df.dtypes)"
      ],
      "metadata": {
        "colab": {
          "base_uri": "https://localhost:8080/"
        },
        "id": "VO6NGaDlQDw0",
        "outputId": "b1529202-c8c4-4e6f-ab32-54ae66cc6102"
      },
      "execution_count": null,
      "outputs": [
        {
          "output_type": "stream",
          "name": "stdout",
          "text": [
            "\n",
            "Data Types:\n",
            "CustomerID      int64\n",
            "Name           object\n",
            "Age           float64\n",
            "Gender         object\n",
            "Income          int64\n",
            "Purchase        int64\n",
            "dtype: object\n",
            "\n",
            "Data Types after conversion:\n",
            "CustomerID     object\n",
            "Name           object\n",
            "Age           float64\n",
            "Gender         object\n",
            "Income          int64\n",
            "Purchase        int64\n",
            "dtype: object\n"
          ]
        }
      ]
    },
    {
      "cell_type": "markdown",
      "source": [
        "## Renaming Columns\n",
        "This would just be to enhance readability an usability, feel free to skip this if required."
      ],
      "metadata": {
        "id": "Ko2WPSzZQLeN"
      }
    },
    {
      "cell_type": "code",
      "source": [
        "# Rename columns\n",
        "df.rename(columns={'CustomerID': 'ID', 'Income': 'Annual_Income'}, inplace=True)\n",
        "\n",
        "# Display the DataFrame with renamed columns\n",
        "print(\"\\nDataFrame after renaming columns:\")\n",
        "print(df.head())"
      ],
      "metadata": {
        "colab": {
          "base_uri": "https://localhost:8080/"
        },
        "id": "ZPhb35FRQI3E",
        "outputId": "e96a689d-8c21-4d9a-d549-e767d768a4ab"
      },
      "execution_count": null,
      "outputs": [
        {
          "output_type": "stream",
          "name": "stdout",
          "text": [
            "\n",
            "DataFrame after renaming columns:\n",
            "  ID        Name   Age Gender  Annual_Income  Purchase\n",
            "0  1  Customer_1  56.0   Male          55939         0\n",
            "1  2  Customer_2  69.0   Male          78925         0\n",
            "2  3  Customer_3  46.0   Male          72941         0\n",
            "3  4  Customer_4  32.0   Male          51834         0\n",
            "4  5  Customer_5  60.0   Male          48047         0\n"
          ]
        }
      ]
    },
    {
      "cell_type": "markdown",
      "source": [
        "## Encoding categorical variables\n",
        "Machine learning algorithms often require categorical variables to be encoded as numerical values. You can use the get_dummies() method for this."
      ],
      "metadata": {
        "id": "aPelqd8hQVJQ"
      }
    },
    {
      "cell_type": "code",
      "source": [
        "# Convert categorical variable into dummy/indicator variables\n",
        "df_encoded = pd.get_dummies(df, columns=['Gender'], drop_first=True)\n",
        "\n",
        "# Display the DataFrame with encoded variables\n",
        "print(\"\\nDataFrame with encoded categorical variables:\")\n",
        "print(df_encoded.head())"
      ],
      "metadata": {
        "colab": {
          "base_uri": "https://localhost:8080/"
        },
        "id": "nTxXvG9VQTPk",
        "outputId": "6be16348-2896-4054-f3c4-c24b4b7b38e6"
      },
      "execution_count": null,
      "outputs": [
        {
          "output_type": "stream",
          "name": "stdout",
          "text": [
            "\n",
            "DataFrame with encoded categorical variables:\n",
            "  ID        Name   Age  Annual_Income  Purchase  Gender_Male\n",
            "0  1  Customer_1  56.0          55939         0         True\n",
            "1  2  Customer_2  69.0          78925         0         True\n",
            "2  3  Customer_3  46.0          72941         0         True\n",
            "3  4  Customer_4  32.0          51834         0         True\n",
            "4  5  Customer_5  60.0          48047         0         True\n"
          ]
        }
      ]
    },
    {
      "cell_type": "markdown",
      "source": [
        "## Handling Outliers\n",
        "Outliers can distort your analysis and should be handled appropriately. You can identify and remove outliers using statistical methods:"
      ],
      "metadata": {
        "id": "O-tWputhQczc"
      }
    },
    {
      "cell_type": "code",
      "source": [
        "# Identify outliers using the IQR method\n",
        "Q1 = df['Annual_Income'].quantile(0.25)\n",
        "Q3 = df['Annual_Income'].quantile(0.75)\n",
        "IQR = Q3 - Q1\n",
        "\n",
        "# Define upper and lower bounds\n",
        "lower_bound = Q1 - 1.5 * IQR\n",
        "upper_bound = Q3 + 1.5 * IQR\n",
        "\n",
        "# Remove outliers\n",
        "df_no_outliers = df[(df['Annual_Income'] >= lower_bound) & (df['Annual_Income'] <= upper_bound)]\n",
        "\n",
        "# Display the DataFrame without outliers\n",
        "print(\"\\nDataFrame without outliers:\")\n",
        "print(df_no_outliers)"
      ],
      "metadata": {
        "colab": {
          "base_uri": "https://localhost:8080/"
        },
        "id": "CmEnH58CQati",
        "outputId": "59142225-133d-4971-86a5-f96b43662a88"
      },
      "execution_count": null,
      "outputs": [
        {
          "output_type": "stream",
          "name": "stdout",
          "text": [
            "\n",
            "DataFrame without outliers:\n",
            "     ID          Name        Age  Gender  Annual_Income  Purchase\n",
            "0     1    Customer_1  56.000000    Male          55939         0\n",
            "1     2    Customer_2  69.000000    Male          78925         0\n",
            "2     3    Customer_3  46.000000    Male          72941         0\n",
            "3     4    Customer_4  32.000000    Male          51834         0\n",
            "4     5    Customer_5  60.000000    Male          48047         0\n",
            "..  ...           ...        ...     ...            ...       ...\n",
            "95   96   Customer_96  42.000000  Female         107371         1\n",
            "96   97   Customer_97  43.427083  Female          32049         0\n",
            "97   98   Customer_98  58.000000  Female          61616         1\n",
            "98   99   Customer_99  43.427083  Female          50932         0\n",
            "99  100  Customer_100  32.000000  Female          59855         1\n",
            "\n",
            "[100 rows x 6 columns]\n"
          ]
        }
      ]
    },
    {
      "cell_type": "markdown",
      "source": [
        "## Wrapping up\n",
        "\n",
        "In this tutorial, we explored essential techniques for data cleaning using the Pandas library. We created a synthetic dataset with 100 entries and demonstrated how to handle missing values, remove duplicates, convert data types, rename columns, encode categorical variables, and manage outliers.\n",
        "\n",
        "Data cleaning is a critical step in the data analysis process, and mastering these techniques will significantly enhance the quality of your analyses. As you work with more complex datasets, these foundational skills will serve you well.\n",
        "\n",
        "Feel free to experiment with different datasets and cleaning techniques to deepen your understanding of data cleaning with Pandas!\n",
        "\n",
        "\n",
        "### Running the Code\n",
        "\n",
        "You can copy and paste the entire code into your Python environment or a Jupyter notebook. This code will create a synthetic dataset with 100 entries and demonstrate various data cleaning techniques using Pandas. Each section is designed to be run sequentially, allowing you to see the changes made to the dataset at each step. Enjoy your data cleaning journey!"
      ],
      "metadata": {
        "id": "v2rQBjqRQjWd"
      }
    },
    {
      "cell_type": "code",
      "source": [],
      "metadata": {
        "id": "blSBt0BJQe1a"
      },
      "execution_count": null,
      "outputs": []
    }
  ]
}