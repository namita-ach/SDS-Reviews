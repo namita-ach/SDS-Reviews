{
  "nbformat": 4,
  "nbformat_minor": 0,
  "metadata": {
    "colab": {
      "provenance": [],
      "authorship_tag": "ABX9TyPmyD+H5S05bkiNAU73uvtu",
      "include_colab_link": true
    },
    "kernelspec": {
      "name": "python3",
      "display_name": "Python 3"
    },
    "language_info": {
      "name": "python"
    }
  },
  "cells": [
    {
      "cell_type": "markdown",
      "metadata": {
        "id": "view-in-github",
        "colab_type": "text"
      },
      "source": [
        "<a href=\"https://colab.research.google.com/github/namita-ach/SDS-Reviews/blob/main/ChiSquare.ipynb\" target=\"_parent\"><img src=\"https://colab.research.google.com/assets/colab-badge.svg\" alt=\"Open In Colab\"/></a>"
      ]
    },
    {
      "cell_type": "markdown",
      "source": [
        "# Hands-On Tutorial: Chi-Square Tests\n",
        "\n",
        "In this tutorial, we will explore the concept of Chi-Square tests using Python. We will conduct various Chi-Square tests to determine associations between categorical variables."
      ],
      "metadata": {
        "id": "N1x67b0FIQS7"
      }
    },
    {
      "cell_type": "markdown",
      "source": [
        "## 1. Importing Necessary Libraries\n",
        "\n",
        "We need to import the required libraries for statistical calculations and plotting."
      ],
      "metadata": {
        "id": "DWHS6UzvISLW"
      }
    },
    {
      "cell_type": "code",
      "execution_count": null,
      "metadata": {
        "id": "NEjeJ8G1IOeg"
      },
      "outputs": [],
      "source": [
        "import numpy as np\n",
        "import pandas as pd\n",
        "from scipy.stats import chi2_contingency\n",
        "from scipy.stats import chi2\n",
        "import matplotlib.pyplot as plt"
      ]
    },
    {
      "cell_type": "markdown",
      "source": [
        "## 2. Chi-Square Test for Independence"
      ],
      "metadata": {
        "id": "Zy6Zn9jiIap_"
      }
    },
    {
      "cell_type": "markdown",
      "source": [
        "### 2.1 Defining the Data\n",
        "We start by defining a contingency table representing two categorical variables.\n"
      ],
      "metadata": {
        "id": "L0XpfaniId3g"
      }
    },
    {
      "cell_type": "code",
      "source": [
        "# Defining the contingency table\n",
        "data = [[207, 282, 241], [234, 242, 232]]"
      ],
      "metadata": {
        "id": "F6cOXWdYIUKC"
      },
      "execution_count": null,
      "outputs": []
    },
    {
      "cell_type": "markdown",
      "source": [
        "### 2.2 Performing the Chi-Square Test\n",
        "We use the chi2_contingency function to perform the test and interpret the p-value."
      ],
      "metadata": {
        "id": "cQPhZqWcIllL"
      }
    },
    {
      "cell_type": "code",
      "source": [
        "# Perform the Chi-Square test\n",
        "stat, p, dof, expected = chi2_contingency(data)\n",
        "\n",
        "# Set significance level\n",
        "alpha = 0.05\n",
        "\n",
        "# Output p-value and decision\n",
        "print(\"p-value is \" + str(p))\n",
        "if p <= alpha:\n",
        "    print('Dependent (reject H0)')\n",
        "else:\n",
        "    print('Independent (H0 holds true)')"
      ],
      "metadata": {
        "colab": {
          "base_uri": "https://localhost:8080/"
        },
        "id": "Su50Ic5MIjgY",
        "outputId": "568d287c-f9d2-4a52-ad4b-b804838d2c31"
      },
      "execution_count": null,
      "outputs": [
        {
          "output_type": "stream",
          "name": "stdout",
          "text": [
            "p-value is 0.1031971404730939\n",
            "Independent (H0 holds true)\n"
          ]
        }
      ]
    },
    {
      "cell_type": "markdown",
      "source": [
        "## 3. Chi-Square Goodness of Fit Test"
      ],
      "metadata": {
        "id": "_Ivrko8lIp8q"
      }
    },
    {
      "cell_type": "markdown",
      "source": [
        "### 3.1 Observed and Expected Frequencies\n",
        "Next, we conduct a goodness-of-fit test to see if a die is biased."
      ],
      "metadata": {
        "id": "wNTWat_1Ir1r"
      }
    },
    {
      "cell_type": "code",
      "source": [
        "# Observed frequencies from rolling a die\n",
        "observed = np.array([115, 47, 41, 101, 200, 96])\n",
        "\n",
        "# Expected frequencies (assuming a fair die)\n",
        "expected = np.array([100, 100, 100, 100, 100, 100])"
      ],
      "metadata": {
        "id": "PjoETgV4In0n"
      },
      "execution_count": null,
      "outputs": []
    },
    {
      "cell_type": "markdown",
      "source": [
        "### 3.2 Calculating Chi-Square Statistic\n",
        "We calculate the Chi-Square statistic manually and determine the critical value and p-value."
      ],
      "metadata": {
        "id": "EWy8-vVeIvKJ"
      }
    },
    {
      "cell_type": "code",
      "source": [
        "# Calculate chi-square statistic\n",
        "chi2_stat = np.sum((observed - expected)**2 / expected)\n",
        "\n",
        "# Degrees of freedom (number of categories - 1)\n",
        "df = len(observed) - 1\n",
        "\n",
        "# Critical value for 10% significance level\n",
        "critical_value = chi2.ppf(0.90, df)\n",
        "\n",
        "# p-value calculation\n",
        "p_value = 1 - chi2.cdf(chi2_stat, df)\n",
        "\n",
        "# Output results\n",
        "print(f\"Chi-squared Statistic: {chi2_stat}\")\n",
        "print(f\"Critical Value at 10% significance level: {critical_value}\")\n",
        "print(f\"p-value: {p_value}\")\n",
        "\n",
        "# Conclusion based on the statistic and critical value\n",
        "if chi2_stat < critical_value:\n",
        "    print(\"Fail to reject the null hypothesis: The die is unbiased.\")\n",
        "else:\n",
        "    print(\"Reject the null hypothesis: The die is biased.\")"
      ],
      "metadata": {
        "colab": {
          "base_uri": "https://localhost:8080/"
        },
        "id": "QVm_tNLPItmV",
        "outputId": "d190dc16-7201-492f-9820-b3ef1eda2ab4"
      },
      "execution_count": null,
      "outputs": [
        {
          "output_type": "stream",
          "name": "stdout",
          "text": [
            "Chi-squared Statistic: 165.32000000000002\n",
            "Critical Value at 10% significance level: 9.236356899781123\n",
            "p-value: 0.0\n",
            "Reject the null hypothesis: The die is biased.\n"
          ]
        }
      ]
    },
    {
      "cell_type": "markdown",
      "source": [
        "## 4. Chi-Square Test with Multiple Categories"
      ],
      "metadata": {
        "id": "0QXrT8VjJC-B"
      }
    },
    {
      "cell_type": "markdown",
      "source": [
        "### 4.1 Defining Observed Data\n",
        "We define another contingency table representing counts from different machines."
      ],
      "metadata": {
        "id": "KYJ8YHsQJINL"
      }
    },
    {
      "cell_type": "code",
      "source": [
        "# Define the observed data for machines\n",
        "data = np.array([\n",
        "    [10, 102, 8],   # Machine 1\n",
        "    [34, 161, 5],   # Machine 2\n",
        "    [12, 79, 9],    # Machine 3\n",
        "    [10, 60, 10]    # Machine 4\n",
        "])\n",
        "\n",
        "# Create a DataFrame for better visualization (optional)\n",
        "df = pd.DataFrame(data, columns=['Too Thin', 'OK', 'Too Thick'],\n",
        "                  index=['Machine 1', 'Machine 2', 'Machine 3', 'Machine 4'])\n",
        "\n",
        "print(\"Observed Data:\\n\", df)"
      ],
      "metadata": {
        "colab": {
          "base_uri": "https://localhost:8080/"
        },
        "id": "RgM-IgKSIwsk",
        "outputId": "b745cf72-24d6-494a-9ffe-433a496b68eb"
      },
      "execution_count": null,
      "outputs": [
        {
          "output_type": "stream",
          "name": "stdout",
          "text": [
            "Observed Data:\n",
            "            Too Thin   OK  Too Thick\n",
            "Machine 1        10  102          8\n",
            "Machine 2        34  161          5\n",
            "Machine 3        12   79          9\n",
            "Machine 4        10   60         10\n"
          ]
        }
      ]
    },
    {
      "cell_type": "markdown",
      "source": [
        "### 4.2 Performing the Chi-Square Test\n",
        "We perform the Chi-Square test and display results."
      ],
      "metadata": {
        "id": "CfF2hVBIJNWe"
      }
    },
    {
      "cell_type": "code",
      "source": [
        "# Perform the Chi-Square test\n",
        "chi2_stat, p_value, dof, expected = chi2_contingency(data)\n",
        "\n",
        "# Display results\n",
        "print(\"Chi-Square Statistic:\", chi2_stat)\n",
        "print(\"P-Value:\", p_value)\n",
        "print(\"Degrees of Freedom:\", dof)\n",
        "print(\"Expected Frequencies:\\n\", expected)\n",
        "\n",
        "# Determine if the result is significant at alpha = 0.05\n",
        "alpha = 0.05\n",
        "if chi2_stat > chi2.ppf(1 - alpha, dof):\n",
        "    print(\"Reject the null hypothesis: There is a significant difference.\")\n",
        "else:\n",
        "    print(\"Fail to reject the null hypothesis: No significant difference.\")"
      ],
      "metadata": {
        "colab": {
          "base_uri": "https://localhost:8080/"
        },
        "id": "imQyu15IJKrn",
        "outputId": "a1ef6c35-e11e-4c3c-f63e-df43cff20900"
      },
      "execution_count": null,
      "outputs": [
        {
          "output_type": "stream",
          "name": "stdout",
          "text": [
            "Chi-Square Statistic: 15.584353328056686\n",
            "P-Value: 0.01616760116149423\n",
            "Degrees of Freedom: 6\n",
            "Expected Frequencies:\n",
            " [[ 15.84  96.48   7.68]\n",
            " [ 26.4  160.8   12.8 ]\n",
            " [ 13.2   80.4    6.4 ]\n",
            " [ 10.56  64.32   5.12]]\n",
            "Reject the null hypothesis: There is a significant difference.\n"
          ]
        }
      ]
    },
    {
      "cell_type": "markdown",
      "source": [
        "## 5. Chi-Square Test for Vaccination Data"
      ],
      "metadata": {
        "id": "S6DnYmu3JSsk"
      }
    },
    {
      "cell_type": "markdown",
      "source": [
        "### 5.1 Creating a Contingency Table\n",
        "We create a contingency table to analyze vaccination status against recovery outcomes."
      ],
      "metadata": {
        "id": "FbcmjpVZJVBl"
      }
    },
    {
      "cell_type": "code",
      "source": [
        "# Create a contingency table for vaccination data\n",
        "data = np.array([[150, 30],    # Vaccinated Recovered/Not Recovered\n",
        "                 [80, 40]])   # Not Vaccinated Recovered/Not Recovered\n",
        "\n",
        "# Display the contingency table as a DataFrame for clarity\n",
        "contingency_table = pd.DataFrame(data,\n",
        "                                  columns=['Recovered', 'Not Recovered'],\n",
        "                                  index=['Vaccinated', 'Not Vaccinated'])\n",
        "print(\"Contingency Table:\\n\", contingency_table)"
      ],
      "metadata": {
        "colab": {
          "base_uri": "https://localhost:8080/"
        },
        "id": "EGr9IW3VJQI3",
        "outputId": "6747a810-6b49-43de-aa9a-22d4c2c5d315"
      },
      "execution_count": null,
      "outputs": [
        {
          "output_type": "stream",
          "name": "stdout",
          "text": [
            "Contingency Table:\n",
            "                 Recovered  Not Recovered\n",
            "Vaccinated            150             30\n",
            "Not Vaccinated         80             40\n"
          ]
        }
      ]
    },
    {
      "cell_type": "markdown",
      "source": [
        "## 5.2 Performing the Chi-Square Test\n",
        "We perform the test and determine significance."
      ],
      "metadata": {
        "id": "SanVb3PeJZYB"
      }
    },
    {
      "cell_type": "code",
      "source": [
        "# Perform the Chi-Square test on vaccination data\n",
        "chi2_stat, p_value, dof, expected = chi2_contingency(data)\n",
        "\n",
        "# Display results\n",
        "print(\"\\nChi-Square Statistic:\", chi2_stat)\n",
        "print(\"P-Value:\", p_value)\n",
        "print(\"Degrees of Freedom:\", dof)\n",
        "print(\"Expected Frequencies:\\n\", expected)\n",
        "\n",
        "# Determine significance level at alpha = 0.05\n",
        "alpha = 0.05\n",
        "if p_value < alpha:\n",
        "    print(\"Reject the null hypothesis: There is a significant association between vaccination and recovery.\")\n",
        "else:\n",
        "    print(\"Fail to reject the null hypothesis: No significant association between vaccination and recovery.\")"
      ],
      "metadata": {
        "colab": {
          "base_uri": "https://localhost:8080/"
        },
        "id": "aTTGE0d3JXbN",
        "outputId": "428661ff-6abd-41dc-9c7d-80015a92dcfc"
      },
      "execution_count": null,
      "outputs": [
        {
          "output_type": "stream",
          "name": "stdout",
          "text": [
            "\n",
            "Chi-Square Statistic: 10.267857142857142\n",
            "P-Value: 0.0013536793727780064\n",
            "Degrees of Freedom: 1\n",
            "Expected Frequencies:\n",
            " [[138.  42.]\n",
            " [ 92.  28.]]\n",
            "Reject the null hypothesis: There is a significant association between vaccination and recovery.\n"
          ]
        }
      ]
    },
    {
      "cell_type": "markdown",
      "source": [
        "### (Optional): Plotting Vaccination Data\n",
        "We can visualize the vaccination data using a bar chart!"
      ],
      "metadata": {
        "id": "YQaSi-BRJcea"
      }
    },
    {
      "cell_type": "code",
      "source": [
        "plt.figure(figsize=(8, 5))\n",
        "plt.title(\"Vaccination vs Recovery Status\")\n",
        "plt.bar(['Vaccinated', 'Not Vaccinated'], [150, 80], label='Recovered', color='lightblue')\n",
        "plt.bar(['Vaccinated', 'Not Vaccinated'], [30, 40], label='Not Recovered', color='salmon', bottom=[150, 80])\n",
        "plt.ylabel('Number of Patients')\n",
        "plt.legend()\n",
        "plt.grid(axis='y')\n",
        "plt.show()"
      ],
      "metadata": {
        "colab": {
          "base_uri": "https://localhost:8080/",
          "height": 468
        },
        "id": "okHK0qPgJbzV",
        "outputId": "84b7708e-205f-4435-9aec-ba1463549b63"
      },
      "execution_count": null,
      "outputs": [
        {
          "output_type": "display_data",
          "data": {
            "text/plain": [
              "<Figure size 800x500 with 1 Axes>"
            ],
            "image/png": "[encoded data removed]"
          },
          "metadata": {}
        }
      ]
    },
    {
      "cell_type": "markdown",
      "source": [
        "## 6. Chi-Square Test for Gender Preferences"
      ],
      "metadata": {
        "id": "xh1H9CKLJnXb"
      }
    },
    {
      "cell_type": "markdown",
      "source": [
        "### Creating Another Contingency Table\n",
        "We analyze gender preferences regarding product purchases.\n"
      ],
      "metadata": {
        "id": "Ib6Fdhx6Jo04"
      }
    },
    {
      "cell_type": "code",
      "source": [
        "# Create a contingency table for gender preferences in product purchases\n",
        "data = np.array([[30, 10],   # Male Purchases/Not Purchases\n",
        "                 [20, 30]]) # Female Purchases/Not Purchases\n",
        "\n",
        "# Display the contingency table as a DataFrame for clarity\n",
        "contingency_table = pd.DataFrame(data,\n",
        "                                  columns=['Purchased', 'Not Purchased'],\n",
        "                                  index=['Male', 'Female'])\n",
        "print(\"Contingency Table:\\n\", contingency_table)"
      ],
      "metadata": {
        "colab": {
          "base_uri": "https://localhost:8080/"
        },
        "id": "Ebt3ZJKWJik8",
        "outputId": "73567eb4-0a54-4be4-88be-8a286496dc5e"
      },
      "execution_count": null,
      "outputs": [
        {
          "output_type": "stream",
          "name": "stdout",
          "text": [
            "Contingency Table:\n",
            "         Purchased  Not Purchased\n",
            "Male           30             10\n",
            "Female         20             30\n"
          ]
        }
      ]
    },
    {
      "cell_type": "markdown",
      "source": [
        "### Performing the Chi-Square Test\n",
        "We perform another Chi-Square test and visualize results."
      ],
      "metadata": {
        "id": "VOBR4yzeJsAX"
      }
    },
    {
      "cell_type": "code",
      "source": [
        "# Perform the Chi-Square test on gender preference data\n",
        "chi2_stat, p_value, dof, expected = chi2_contingency(data)\n",
        "\n",
        "# Display results\n",
        "print(\"\\nChi-Square Statistic:\", chi2_stat)\n",
        "print(\"P-Value:\", p_value)\n",
        "print(\"Degrees of Freedom:\", dof)\n",
        "print(\"Expected Frequencies:\\n\", expected)\n",
        "\n",
        "# Determine significance level at alpha = 0.05\n",
        "alpha = 0.05\n",
        "if p_value < alpha:\n",
        "    print(\"Reject the null hypothesis: There is a significant association between gender and product preference.\")\n",
        "else:\n",
        "    print(\"Fail to reject the null hypothesis: No significant association between gender and product preference.\")\n",
        "\n",
        "# (Optional) Plotting gender preference data too\n",
        "plt.figure(figsize=(8, 5))\n",
        "plt.title(\"Gender vs Product Purchase Preference\")\n",
        "plt.bar(['Male', 'Female'], [30,20], label='Purchased', color='lightblue')\n",
        "plt.bar(['Male', 'Female'], [10,30], label='Not Purchased', color='salmon', bottom=[30 ,20])\n",
        "plt.ylabel('Number of Individuals')\n",
        "plt.legend()\n",
        "plt.grid(axis='y')\n",
        "plt.show()"
      ],
      "metadata": {
        "colab": {
          "base_uri": "https://localhost:8080/",
          "height": 607
        },
        "id": "o2TyGp-1JqKa",
        "outputId": "7c5fcd3b-5426-4039-b6a5-f2b8c34d27b4"
      },
      "execution_count": null,
      "outputs": [
        {
          "output_type": "stream",
          "name": "stdout",
          "text": [
            "\n",
            "Chi-Square Statistic: 9.6530625\n",
            "P-Value: 0.001890361677058677\n",
            "Degrees of Freedom: 1\n",
            "Expected Frequencies:\n",
            " [[22.22222222 17.77777778]\n",
            " [27.77777778 22.22222222]]\n",
            "Reject the null hypothesis: There is a significant association between gender and product preference.\n"
          ]
        },
        {
          "output_type": "display_data",
          "data": {
            "text/plain": [
              "<Figure size 800x500 with 1 Axes>"
            ],
            "image/png": "[encoded data removed]"
          },
          "metadata": {}
        }
      ]
    },
    {
      "cell_type": "markdown",
      "source": [
        "For a full explanation of the code and concept, go [here](https://namitalearns.substack.com)"
      ],
      "metadata": {
        "id": "ZcGli0_SWZu6"
      }
    },
    {
      "cell_type": "code",
      "source": [],
      "metadata": {
        "id": "WN8KLaDfJtUC"
      },
      "execution_count": null,
      "outputs": []
    }
  ]
}