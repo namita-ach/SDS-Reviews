{
  "nbformat": 4,
  "nbformat_minor": 0,
  "metadata": {
    "colab": {
      "provenance": [],
      "authorship_tag": "ABX9TyPUoybI3uyDEBIX69VUdJK3",
      "include_colab_link": true
    },
    "kernelspec": {
      "name": "python3",
      "display_name": "Python 3"
    },
    "language_info": {
      "name": "python"
    }
  },
  "cells": [
    {
      "cell_type": "markdown",
      "metadata": {
        "id": "view-in-github",
        "colab_type": "text"
      },
      "source": [
        "<a href=\"https://colab.research.google.com/github/namita-ach/SDS-Reviews/blob/main/HypothesisTesting.ipynb\" target=\"_parent\"><img src=\"https://colab.research.google.com/assets/colab-badge.svg\" alt=\"Open In Colab\"/></a>"
      ]
    },
    {
      "cell_type": "markdown",
      "source": [
        "# Hands-On Tutorial: Hypothesis Testing\n",
        "\n",
        "In this tutorial, we will explore the concept of hypothesis testing using Python. We will perform both two-sided and one-sided hypothesis tests to determine whether to reject the null hypothesis based on sample data.\n",
        "\n",
        "---"
      ],
      "metadata": {
        "id": "-vC0BbtPFpvQ"
      }
    },
    {
      "cell_type": "markdown",
      "source": [
        "## 1. Importing Necessary Libraries\n",
        "\n",
        "We need to import the required libraries for statistical calculations."
      ],
      "metadata": {
        "id": "qUKYcv1VFt4K"
      }
    },
    {
      "cell_type": "code",
      "execution_count": null,
      "metadata": {
        "id": "7bT-1rujFaRT"
      },
      "outputs": [],
      "source": [
        "from scipy.stats import norm\n",
        "from math import sqrt"
      ]
    },
    {
      "cell_type": "markdown",
      "source": [
        "## 2. Two-Sided Hypothesis Test Function\n",
        "We define a function two_sided_hypo that performs a two-sided hypothesis test.\n",
        "\n",
        "This function takes the following parameters:\n",
        "* sample_mean: The mean of the sample we are testing.\n",
        "* pop_mean: The population mean under the null hypothesis.\n",
        "* std_dev: The standard deviation of the population.\n",
        "* sample_size: The size of the sample.\n",
        "* alpha: The significance level (probability of rejecting the null hypothesis when it is true).\n",
        "\n",
        "The function calculates the z-scores and determines if we should reject the null hypothesis."
      ],
      "metadata": {
        "id": "bc1SBrwgFy5F"
      }
    },
    {
      "cell_type": "code",
      "source": [
        "def two_sided_hypo(sample_mean, pop_mean, std_dev, sample_size, alpha):\n",
        "    # Calculate critical z-value for two-tailed test\n",
        "    actual_z = abs(norm.ppf(alpha / 2))\n",
        "\n",
        "    # Calculate the z-score for the sample mean\n",
        "    hypo_z = (sample_mean - pop_mean) / (std_dev / sqrt(sample_size))\n",
        "\n",
        "    print('Actual z value:', actual_z)\n",
        "    print('Hypothesis z value:', hypo_z, '\\n')\n",
        "\n",
        "    # Determine if we reject the null hypothesis\n",
        "    if hypo_z >= actual_z or hypo_z <= -actual_z:\n",
        "        return True  # Reject null hypothesis\n",
        "    else:\n",
        "        return False  # Fail to reject null hypothesis"
      ],
      "metadata": {
        "id": "6tDREWj3FwuM"
      },
      "execution_count": null,
      "outputs": []
    },
    {
      "cell_type": "markdown",
      "source": [
        "## 3. Setting Parameters for Two-Sided Test\n",
        "Next, we set our parameters for the two-sided test. We will use:\n",
        "* A significance level (alpha) of 0.05.\n",
        "* A sample mean of 585.\n",
        "* A population mean of 558.\n",
        "* A sample size of 100.\n",
        "* A standard deviation of 139."
      ],
      "metadata": {
        "id": "hWfESOO-F61z"
      }
    },
    {
      "cell_type": "code",
      "source": [
        "# Parameters for two-sided test\n",
        "alpha = 0.05\n",
        "sample_mean = 585\n",
        "pop_mean = 558\n",
        "sample_size = 100\n",
        "std_dev = 139"
      ],
      "metadata": {
        "id": "iXUHiOCiF6Wa"
      },
      "execution_count": null,
      "outputs": []
    },
    {
      "cell_type": "code",
      "source": [
        "print('H0: μ =', pop_mean)  # Null hypothesis\n",
        "print('H1: μ !=', pop_mean)  # Alternative hypothesis\n",
        "print('Alpha value is:', alpha, '\\n')\n",
        "\n",
        "# Perform two-sided hypothesis test\n",
        "reject = two_sided_hypo(sample_mean, pop_mean, std_dev, sample_size, alpha)\n",
        "if reject:\n",
        "    print('Reject NULL hypothesis')\n",
        "else:\n",
        "    print('Failed to reject NULL hypothesis')"
      ],
      "metadata": {
        "colab": {
          "base_uri": "https://localhost:8080/"
        },
        "id": "cii4trgYGCOJ",
        "outputId": "1cb22beb-2de8-4dc7-c50c-bbff25490da9"
      },
      "execution_count": null,
      "outputs": [
        {
          "output_type": "stream",
          "name": "stdout",
          "text": [
            "H0: μ = 558\n",
            "H1: μ != 558\n",
            "Alpha value is: 0.05 \n",
            "\n",
            "Actual z value: 1.9599639845400545\n",
            "Hypothesis z value: 1.9424460431654675 \n",
            "\n",
            "Failed to reject NULL hypothesis\n"
          ]
        }
      ]
    },
    {
      "cell_type": "markdown",
      "source": [
        "## 4. One-Sided Hypothesis Test Function\n",
        "Now we define a function one_sided_hypo that performs a one-sided hypothesis test. This function is similar to the two-sided test but only tests in one direction (greater than)."
      ],
      "metadata": {
        "id": "cHWLfp4fGHzv"
      }
    },
    {
      "cell_type": "code",
      "source": [
        "def one_sided_hypo(sample_mean, pop_mean, std_dev, sample_size, alpha):\n",
        "    # Calculate critical z-value for one-tailed test\n",
        "    actual_z = abs(norm.ppf(alpha))\n",
        "\n",
        "    # Calculate the z-score for the sample mean\n",
        "    hypo_z = (sample_mean - pop_mean) / (std_dev / sqrt(sample_size))\n",
        "\n",
        "    print('Actual z value:', actual_z)\n",
        "    print('Hypothesis z value:', hypo_z, '\\n')\n",
        "\n",
        "    # Determine if we reject the null hypothesis\n",
        "    if hypo_z >= actual_z:\n",
        "        return True  # Reject null hypothesis\n",
        "    else:\n",
        "        return False  # Fail to reject null hypothesis"
      ],
      "metadata": {
        "id": "IJjLnbIDGDux"
      },
      "execution_count": null,
      "outputs": []
    },
    {
      "cell_type": "markdown",
      "source": [
        "## 5. Setting Parameters for One-Sided Test\n",
        "Next, we set our parameters for the one-sided test. We will use:\n",
        "* A significance level (alpha) of 0.05.\n",
        "* A sample mean of 108.\n",
        "* A population mean of 100.\n",
        "* A sample size of 36.\n",
        "* A standard deviation of 15."
      ],
      "metadata": {
        "id": "CDXmDRmBGM2v"
      }
    },
    {
      "cell_type": "code",
      "source": [
        "# Parameters for one-sided test\n",
        "alpha = 0.05\n",
        "sample_mean = 108\n",
        "pop_mean = 100\n",
        "sample_size = 36\n",
        "std_dev = 15"
      ],
      "metadata": {
        "id": "riytu1bCGMLd"
      },
      "execution_count": null,
      "outputs": []
    },
    {
      "cell_type": "code",
      "source": [
        "print('H0: μ <=', pop_mean)  # Null hypothesis (less than or equal to)\n",
        "print('H1: μ >', pop_mean)   # Alternative hypothesis (greater than)\n",
        "print('Alpha value is:', alpha, '\\n')\n",
        "\n",
        "# Perform one-sided hypothesis test\n",
        "reject = one_sided_hypo(sample_mean, pop_mean, std_dev, sample_size, alpha)\n",
        "if reject:\n",
        "    print('Reject NULL hypothesis')\n",
        "else:\n",
        "    print('Failed to reject NULL hypothesis')"
      ],
      "metadata": {
        "id": "_X177p9yGUnd",
        "outputId": "f071eefd-2493-4120-d8df-c3639d96aff0",
        "colab": {
          "base_uri": "https://localhost:8080/"
        }
      },
      "execution_count": null,
      "outputs": [
        {
          "output_type": "stream",
          "name": "stdout",
          "text": [
            "H0: μ <= 100\n",
            "H1: μ > 100\n",
            "Alpha value is: 0.05 \n",
            "\n",
            "Actual z value: 1.6448536269514729\n",
            "Hypothesis z value: 3.2 \n",
            "\n",
            "Reject NULL hypothesis\n"
          ]
        }
      ]
    },
    {
      "cell_type": "markdown",
      "source": [
        "For a little more, check out [Namita Learns](https://namitalearns.substack.com)!"
      ],
      "metadata": {
        "id": "E9EaMJaNX3Fj"
      }
    },
    {
      "cell_type": "code",
      "source": [],
      "metadata": {
        "id": "LJYna6BhGWOc"
      },
      "execution_count": null,
      "outputs": []
    }
  ]
}